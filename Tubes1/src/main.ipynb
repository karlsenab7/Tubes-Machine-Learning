{
 "cells": [
  {
   "cell_type": "code",
   "execution_count": 199,
   "metadata": {},
   "outputs": [
    {
     "name": "stdout",
     "output_type": "stream",
     "text": [
      "[['0', '1'], ['0', '0'], ['0', '1'], ['1', '1']]\n",
      "[['0'], ['1'], ['1'], ['0']]\n"
     ]
    }
   ],
   "source": [
    "TEST_DIR = \"test/\"\n",
    "import csv\n",
    "with open(TEST_DIR+'test.csv', 'r') as f:\n",
    "    data = [i.split(\",\") for i in f.read().split()]\n",
    "    listInput = []\n",
    "    listTarget = []\n",
    "    temp =[]\n",
    "    temp2 = []\n",
    "    \n",
    "    def slice_per(source, step):\n",
    "        return [source[i::step] for i in range(step)]\n",
    "\n",
    "    for i in range(len(data)):\n",
    "        for j in range(len(data[i])):\n",
    "            if i!=0:\n",
    "                if j == 0 or j == 1:\n",
    "                    temp.append(data[i][j])\n",
    "            # temp2 = (temp, 2)\n",
    "        listInput = slice_per(temp, len(data)-1)\n",
    "        \n",
    "    for i in range(len(data)):\n",
    "        for j in range(len(data[i])):\n",
    "            if i!=0:\n",
    "                if j == 2:\n",
    "                    temp2.append(data[i][j])\n",
    "            # temp2 = (temp, 2)\n",
    "        listTarget = slice_per(temp2, len(data)-1)\n",
    "        \n",
    "print (listInput)\n",
    "print (listTarget)"
   ]
  },
  {
   "cell_type": "code",
   "execution_count": 196,
   "metadata": {},
   "outputs": [],
   "source": [
    "import pandas as pd\n",
    "from components.Activation import Activation\n",
    "from components.Layer import Layer\n",
    "\n",
    "class FFNNModel:\n",
    "    def __init__(self, layers):\n",
    "        self.layers : list[Layer] = layers\n",
    "        pass\n",
    "\n",
    "    def setInitialInput(self, input: list[int]):\n",
    "        if (len(self.layers) >= 1):\n",
    "            self.layers[0].values = input\n",
    "\n",
    "    def solve(self):\n",
    "        for i in range(len(self.layers)-1):\n",
    "            print(\"LAYER ==> \", i)\n",
    "            idxLayerInput = i\n",
    "            idxLayerTarget = i+1\n",
    "            targetValues = []\n",
    "            print(\"Input layer \\t:\", self.layers[idxLayerInput].values)\n",
    "            tempSigma = []\n",
    "            for nodeTarget in range(self.layers[idxLayerTarget].numOfNode):\n",
    "                sigma = self.getSigma(idxLayerTarget, self.layers[idxLayerInput].values, nodeTarget)\n",
    "                tempVal = Activation.active(sigma, self.layers[idxLayerTarget].activation)\n",
    "                targetValues.append(tempVal)\n",
    "                targetValues.append(tempVal)\n",
    "                tempSigma.append(sigma)\n",
    "\n",
    "            print(\"Sigma   :\", tempSigma)\n",
    "            self.layers[idxLayerTarget].values = targetValues\n",
    "            # print(targetValues)\n",
    "        return self.layers[len(self.layers)-1].values\n",
    "\n",
    "    \n",
    "    def getSigma(self, idxLayer, input, node):\n",
    "        temp = 0\n",
    "        for idx, w in enumerate(self.layers[idxLayer].weights[node]):\n",
    "            if (idx != 0):\n",
    "                temp += w * input[idx-1]\n",
    "            else:\n",
    "                temp += w\n",
    "        return temp\n",
    "\n",
    "    @staticmethod\n",
    "    def getModelFromFile (path):\n",
    "        MODELS_DIR = \"models/\"\n",
    "        layers: list[Layer] = []\n",
    "        df = pd.read_json(MODELS_DIR + path)\t\n",
    "        for layer in df.model.layers :\n",
    "            layer_ = Layer(layer['activation'], layer['numOfNode'], layer['weights'], layer['values'])\n",
    "            layers.append(layer_)\n",
    "\n",
    "        return FFNNModel(layers)"
   ]
  },
  {
   "cell_type": "code",
   "execution_count": 197,
   "metadata": {},
   "outputs": [
    {
     "name": "stdout",
     "output_type": "stream",
     "text": [
      "LAYER ==>  0\n",
      "Input layer \t: [0, 0]\n"
     ]
    },
    {
     "ename": "AttributeError",
     "evalue": "'int' object has no attribute 'values'",
     "output_type": "error",
     "traceback": [
      "\u001b[1;31m---------------------------------------------------------------------------\u001b[0m",
      "\u001b[1;31mAttributeError\u001b[0m                            Traceback (most recent call last)",
      "\u001b[1;32m<ipython-input-197-99e34f75895e>\u001b[0m in \u001b[0;36m<module>\u001b[1;34m\u001b[0m\n\u001b[0;32m     33\u001b[0m \u001b[0mlistInput\u001b[0m\u001b[1;33m,\u001b[0m \u001b[0mlistTarget\u001b[0m \u001b[1;33m=\u001b[0m \u001b[0mreadInputFromFile\u001b[0m\u001b[1;33m(\u001b[0m\u001b[0mTEST_DIR\u001b[0m \u001b[1;33m+\u001b[0m \u001b[1;34m\"test.csv\"\u001b[0m\u001b[1;33m)\u001b[0m\u001b[1;33m\u001b[0m\u001b[1;33m\u001b[0m\u001b[0m\n\u001b[0;32m     34\u001b[0m \u001b[1;33m\u001b[0m\u001b[0m\n\u001b[1;32m---> 35\u001b[1;33m \u001b[0msolveModel\u001b[0m\u001b[1;33m(\u001b[0m\u001b[0mlistInput\u001b[0m\u001b[1;33m,\u001b[0m \u001b[0mlistTarget\u001b[0m\u001b[1;33m)\u001b[0m\u001b[1;33m\u001b[0m\u001b[1;33m\u001b[0m\u001b[0m\n\u001b[0m",
      "\u001b[1;32m<ipython-input-197-99e34f75895e>\u001b[0m in \u001b[0;36msolveModel\u001b[1;34m(inp, target)\u001b[0m\n\u001b[0;32m     13\u001b[0m     \u001b[1;32mfor\u001b[0m \u001b[0midx\u001b[0m\u001b[1;33m,\u001b[0m \u001b[0mtest\u001b[0m \u001b[1;32min\u001b[0m \u001b[0menumerate\u001b[0m\u001b[1;33m(\u001b[0m\u001b[0minp\u001b[0m\u001b[1;33m)\u001b[0m\u001b[1;33m:\u001b[0m\u001b[1;33m\u001b[0m\u001b[1;33m\u001b[0m\u001b[0m\n\u001b[0;32m     14\u001b[0m         \u001b[0mfnn\u001b[0m\u001b[1;33m.\u001b[0m\u001b[0msetInitialInput\u001b[0m\u001b[1;33m(\u001b[0m\u001b[0mtest\u001b[0m\u001b[1;33m)\u001b[0m\u001b[1;33m\u001b[0m\u001b[1;33m\u001b[0m\u001b[0m\n\u001b[1;32m---> 15\u001b[1;33m         \u001b[0mres\u001b[0m \u001b[1;33m=\u001b[0m \u001b[0mfnn\u001b[0m\u001b[1;33m.\u001b[0m\u001b[0msolve\u001b[0m\u001b[1;33m(\u001b[0m\u001b[1;33m)\u001b[0m\u001b[1;33m(\u001b[0m\u001b[0mtest\u001b[0m\u001b[1;33m,\u001b[0m \u001b[0mend\u001b[0m\u001b[1;33m=\u001b[0m\u001b[1;34m\" -> \"\u001b[0m\u001b[1;33m)\u001b[0m\u001b[1;33m\u001b[0m\u001b[1;33m\u001b[0m\u001b[0m\n\u001b[0m\u001b[0;32m     16\u001b[0m         \u001b[0mprint\u001b[0m\u001b[1;33m(\u001b[0m\u001b[0mres\u001b[0m\u001b[1;33m,\u001b[0m \u001b[0mend\u001b[0m\u001b[1;33m=\u001b[0m\u001b[1;34m\"  \"\u001b[0m\u001b[1;33m)\u001b[0m\u001b[1;33m\u001b[0m\u001b[1;33m\u001b[0m\u001b[0m\n\u001b[0;32m     17\u001b[0m         \u001b[1;32mif\u001b[0m \u001b[1;33m(\u001b[0m\u001b[0misCorrect\u001b[0m\u001b[1;33m(\u001b[0m\u001b[0mres\u001b[0m\u001b[1;33m,\u001b[0m \u001b[0mtarget\u001b[0m\u001b[1;33m[\u001b[0m\u001b[0midx\u001b[0m\u001b[1;33m]\u001b[0m\u001b[1;33m)\u001b[0m\u001b[1;33m)\u001b[0m\u001b[1;33m:\u001b[0m\u001b[1;33m\u001b[0m\u001b[1;33m\u001b[0m\u001b[0m\n",
      "\u001b[1;32m<ipython-input-196-dd513da7e6c4>\u001b[0m in \u001b[0;36msolve\u001b[1;34m(self)\u001b[0m\n\u001b[0;32m     21\u001b[0m             \u001b[0mtempSigma\u001b[0m \u001b[1;33m=\u001b[0m \u001b[1;33m[\u001b[0m\u001b[1;33m]\u001b[0m\u001b[1;33m\u001b[0m\u001b[1;33m\u001b[0m\u001b[0m\n\u001b[0;32m     22\u001b[0m             \u001b[1;32mfor\u001b[0m \u001b[0mnodeTarget\u001b[0m \u001b[1;32min\u001b[0m \u001b[0mrange\u001b[0m\u001b[1;33m(\u001b[0m\u001b[0mself\u001b[0m\u001b[1;33m.\u001b[0m\u001b[0mlayers\u001b[0m\u001b[1;33m[\u001b[0m\u001b[0midxLayerTarget\u001b[0m\u001b[1;33m]\u001b[0m\u001b[1;33m.\u001b[0m\u001b[0mnumOfNode\u001b[0m\u001b[1;33m)\u001b[0m\u001b[1;33m:\u001b[0m\u001b[1;33m\u001b[0m\u001b[1;33m\u001b[0m\u001b[0m\n\u001b[1;32m---> 23\u001b[1;33m                 \u001b[0mprint\u001b[0m\u001b[1;33m(\u001b[0m\u001b[1;34m\"Input layer \\t:\"\u001b[0m\u001b[1;33m,\u001b[0m \u001b[0mnodeTarget\u001b[0m\u001b[1;33m.\u001b[0m\u001b[0mvalues\u001b[0m\u001b[1;33m)\u001b[0m\u001b[1;33m\u001b[0m\u001b[1;33m\u001b[0m\u001b[0m\n\u001b[0m\u001b[0;32m     24\u001b[0m                 \u001b[0msigma\u001b[0m \u001b[1;33m=\u001b[0m \u001b[0mself\u001b[0m\u001b[1;33m.\u001b[0m\u001b[0mgetSigma\u001b[0m\u001b[1;33m(\u001b[0m\u001b[0midxLayerTarget\u001b[0m\u001b[1;33m,\u001b[0m \u001b[0mself\u001b[0m\u001b[1;33m.\u001b[0m\u001b[0mlayers\u001b[0m\u001b[1;33m[\u001b[0m\u001b[0midxLayerInput\u001b[0m\u001b[1;33m]\u001b[0m\u001b[1;33m.\u001b[0m\u001b[0mvalues\u001b[0m\u001b[1;33m,\u001b[0m \u001b[0mnodeTarget\u001b[0m\u001b[1;33m)\u001b[0m\u001b[1;33m\u001b[0m\u001b[1;33m\u001b[0m\u001b[0m\n\u001b[0;32m     25\u001b[0m                 \u001b[0mtempVal\u001b[0m \u001b[1;33m=\u001b[0m \u001b[0mActivation\u001b[0m\u001b[1;33m.\u001b[0m\u001b[0mactive\u001b[0m\u001b[1;33m(\u001b[0m\u001b[0msigma\u001b[0m\u001b[1;33m,\u001b[0m \u001b[0mself\u001b[0m\u001b[1;33m.\u001b[0m\u001b[0mlayers\u001b[0m\u001b[1;33m[\u001b[0m\u001b[0midxLayerTarget\u001b[0m\u001b[1;33m]\u001b[0m\u001b[1;33m.\u001b[0m\u001b[0mactivation\u001b[0m\u001b[1;33m)\u001b[0m\u001b[1;33m\u001b[0m\u001b[1;33m\u001b[0m\u001b[0m\n",
      "\u001b[1;31mAttributeError\u001b[0m: 'int' object has no attribute 'values'"
     ]
    }
   ],
   "source": [
    "fnn = FFNNModel.getModelFromFile('model.json')\n",
    "\n",
    "def isCorrect(result, target):\n",
    "    for idx, res in enumerate(result):\n",
    "        if (int(res) != int(target[idx])):\n",
    "            return False\n",
    "\n",
    "    return True\n",
    "\n",
    "def solveModel(inp, target):\n",
    "    result = []\n",
    "    count = 0\n",
    "    for idx, test in enumerate(inp):\n",
    "        fnn.setInitialInput(test)\n",
    "        res = fnn.solve()(test, end=\" -> \")\n",
    "        print(res, end=\"  \")\n",
    "        if (isCorrect(res, target[idx])):\n",
    "            print(\"O\")\n",
    "            count += 1\n",
    "        else:\n",
    "            print(\"X\")\n",
    "        result.append(res)\n",
    "        \n",
    "    print(\"Akurasi: \", float(count)/len(inp))\n",
    "\n",
    "def readInputFromFile(filename):\n",
    "\n",
    "    return [[0, 0], [1,0], [0,1], [1,1]], [[0], [1], [1], [0]]\n",
    "    \n",
    "listInput = [[0, 0], [1,0], [0,1], [1,1]]\n",
    "listTarget = [[0], [1], [1], [0]]\n",
    "\n",
    "listInput, listTarget = readInputFromFile(TEST_DIR + \"test.csv\")\n",
    "\n",
    "solveModel(listInput, listTarget)"
   ]
  },
  {
   "cell_type": "markdown",
   "metadata": {},
   "source": [
    "# Visualization"
   ]
  },
  {
   "cell_type": "code",
   "execution_count": 105,
   "metadata": {},
   "outputs": [
    {
     "ename": "ModuleNotFoundError",
     "evalue": "No module named 'graphviz'",
     "output_type": "error",
     "traceback": [
      "\u001b[1;31m---------------------------------------------------------------------------\u001b[0m",
      "\u001b[1;31mModuleNotFoundError\u001b[0m                       Traceback (most recent call last)",
      "\u001b[1;32m<ipython-input-105-dbc0e023ebf1>\u001b[0m in \u001b[0;36m<module>\u001b[1;34m\u001b[0m\n\u001b[0;32m      1\u001b[0m \u001b[1;31m# Model Visualization\u001b[0m\u001b[1;33m\u001b[0m\u001b[1;33m\u001b[0m\u001b[1;33m\u001b[0m\u001b[0m\n\u001b[0;32m      2\u001b[0m \u001b[1;33m\u001b[0m\u001b[0m\n\u001b[1;32m----> 3\u001b[1;33m \u001b[1;32mfrom\u001b[0m \u001b[0mgraphviz\u001b[0m \u001b[1;32mimport\u001b[0m \u001b[0mDigraph\u001b[0m\u001b[1;33m\u001b[0m\u001b[1;33m\u001b[0m\u001b[0m\n\u001b[0m\u001b[0;32m      4\u001b[0m \u001b[0mf\u001b[0m \u001b[1;33m=\u001b[0m \u001b[0mDigraph\u001b[0m\u001b[1;33m(\u001b[0m\u001b[1;34m'Feed Forward Neural Network'\u001b[0m\u001b[1;33m,\u001b[0m \u001b[0mfilename\u001b[0m\u001b[1;33m=\u001b[0m\u001b[1;34m'model 1.gv'\u001b[0m\u001b[1;33m)\u001b[0m\u001b[1;33m\u001b[0m\u001b[1;33m\u001b[0m\u001b[0m\n\u001b[0;32m      5\u001b[0m \u001b[0mf\u001b[0m\u001b[1;33m.\u001b[0m\u001b[0mattr\u001b[0m\u001b[1;33m(\u001b[0m\u001b[1;34m'node'\u001b[0m\u001b[1;33m,\u001b[0m \u001b[0mshape\u001b[0m\u001b[1;33m=\u001b[0m\u001b[1;34m'circle'\u001b[0m\u001b[1;33m,\u001b[0m \u001b[0mfixedsize\u001b[0m\u001b[1;33m=\u001b[0m\u001b[1;34m'true'\u001b[0m\u001b[1;33m,\u001b[0m \u001b[0mwidth\u001b[0m\u001b[1;33m=\u001b[0m\u001b[1;34m'0.9'\u001b[0m\u001b[1;33m)\u001b[0m\u001b[1;33m\u001b[0m\u001b[1;33m\u001b[0m\u001b[0m\n",
      "\u001b[1;31mModuleNotFoundError\u001b[0m: No module named 'graphviz'"
     ]
    }
   ],
   "source": [
    "# Model Visualization\n",
    "\n",
    "from graphviz import Digraph\n",
    "f = Digraph('Feed Forward Neural Network', filename='model 1.gv')\n",
    "f.attr('node', shape='circle', fixedsize='true', width='0.9')\n",
    "\n",
    "for i in range(len(fnn.layers)) :\n",
    "    if i != 0:\n",
    "        if i == 1:\n",
    "            for j in range(len(fnn.layers[i].weights)) :\n",
    "                for k in range(len(fnn.layers[i].weights[j])) :\n",
    "                    if k == 0:\n",
    "                        if j == 0:\n",
    "                            f.edge(f'bx', f'h{i}_{k}', str(\n",
    "                            fnn.layers[i].weights[j][k]))\n",
    "                        else:\n",
    "                            f.edge(f'bx', f'h{i}_{k+1}', str(\n",
    "                                fnn.layers[i].weights[j][k]))\n",
    "                    else :\n",
    "                        if j == 0:\n",
    "                            if k == 2:\n",
    "                                f.edge(f'x{j}', f'h{i}_{k-1}', str(\n",
    "                                fnn.layers[i].weights[j+1][k]))\n",
    "                            else:\n",
    "                                f.edge(f'x{j}', f'h{i}_{k-1}', str(\n",
    "                                fnn.layers[i].weights[j][k]))\n",
    "                        else:\n",
    "                            if k == 1:\n",
    "                                f.edge(f'x{j}', f'h{i}_{k-1}', str(\n",
    "                                fnn.layers[i].weights[j-1][k]))\n",
    "                            else:\n",
    "                                f.edge(f'x{j}', f'h{i}_{k-1}', str(\n",
    "                                fnn.layers[i].weights[j][k]))\n",
    "\n",
    "        elif i ==2 :\n",
    "            for j in range(len(fnn.layers[i].weights)):\n",
    "                for k in range(len(fnn.layers[i].weights[j])):\n",
    "                    if k == 0:\n",
    "                        f.edge(f'bhx{i-1}', f'h{i}_{j}', str(\n",
    "                            fnn.layers[i].weights[j][k]))\n",
    "                    elif k == 1 :\n",
    "                        f.edge(f'h{i-1}_{j}', f'h{i}_{0}', str(\n",
    "                            fnn.layers[i].weights[j][k]))\n",
    "                    else:\n",
    "                        f.edge(f'h{i-1}_{j+1}', f'h{i}_{0}', str(\n",
    "                            fnn.layers[i].weights[j][k]))\n",
    "       \n",
    "f.view()"
   ]
  }
 ],
 "metadata": {
  "interpreter": {
   "hash": "2be5faf79681da6f2a61fdfdd5405d65d042280f7fba6178067603e3a2925119"
  },
  "kernelspec": {
   "display_name": "Python 3.10.0 64-bit",
   "language": "python",
   "name": "python3"
  },
  "language_info": {
   "codemirror_mode": {
    "name": "ipython",
    "version": 3
   },
   "file_extension": ".py",
   "mimetype": "text/x-python",
   "name": "python",
   "nbconvert_exporter": "python",
   "pygments_lexer": "ipython3",
   "version": "3.9.0"
  },
  "orig_nbformat": 4
 },
 "nbformat": 4,
 "nbformat_minor": 2
}
