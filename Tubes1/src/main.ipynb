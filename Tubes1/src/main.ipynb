{
 "cells": [
  {
   "cell_type": "code",
   "execution_count": 2,
   "metadata": {},
   "outputs": [],
   "source": [
    "from components.FFNNModel import FFNNModel\n",
    "\n",
    "TEST_DIR = \"test/\""
   ]
  },
  {
   "cell_type": "code",
   "execution_count": 5,
   "metadata": {},
   "outputs": [],
   "source": [
    "fnn = FFNNModel.getModelFromFile('model.json')\n",
    "\n",
    "def isCorrect(result, target):\n",
    "    for idx, res in enumerate(result):\n",
    "        if (int(res) != int(target[idx])):\n",
    "            return False\n",
    "\n",
    "    return True\n",
    "\n",
    "def solveModel(inp, target):\n",
    "    result = []\n",
    "    count = 0\n",
    "    for idx, test in enumerate(inp):\n",
    "        fnn.setInitialInput(test)\n",
    "        res = fnn.solve()\n",
    "        print(test, end=\" -> \")\n",
    "        print(res, end=\"  \")\n",
    "        if (isCorrect(res, target[idx])):\n",
    "            print(\"O\")\n",
    "            count += 1\n",
    "        else:\n",
    "            print(\"X\")\n",
    "        result.append(res)\n",
    "        \n",
    "    print(\"Akurasi: \", float(count)/len(inp))\n",
    "\n",
    "def readInputFromFile(filename):\n",
    "\n",
    "    return [[0, 0], [1,0], [0,1], [1,1]], [[0], [1], [1], [0]]\n",
    "    \n",
    "\n"
   ]
  },
  {
   "cell_type": "code",
   "execution_count": 7,
   "metadata": {},
   "outputs": [
    {
     "name": "stdout",
     "output_type": "stream",
     "text": [
      "[0, 0] -> [0]  O\n",
      "[1, 0] -> [1]  O\n",
      "[0, 1] -> [1]  O\n",
      "[1, 1] -> [0]  O\n",
      "Akurasi:  1.0\n"
     ]
    }
   ],
   "source": [
    "listInput = [[0, 0], [1,0], [0,1], [1,1]]\n",
    "listTarget = [[0], [1], [1], [0]]\n",
    "\n",
    "listInput, listTarget = readInputFromFile(TEST_DIR + \"test.csv\")\n",
    "\n",
    "solveModel(listInput, listTarget)"
   ]
  },
  {
   "cell_type": "markdown",
   "metadata": {},
   "source": [
    "# Visualization"
   ]
  },
  {
   "cell_type": "code",
   "execution_count": 3,
   "metadata": {},
   "outputs": [
    {
     "ename": "ModuleNotFoundError",
     "evalue": "No module named 'graphviz'",
     "output_type": "error",
     "traceback": [
      "\u001b[1;31m---------------------------------------------------------------------------\u001b[0m",
      "\u001b[1;31mModuleNotFoundError\u001b[0m                       Traceback (most recent call last)",
      "\u001b[1;32m<ipython-input-3-dbc0e023ebf1>\u001b[0m in \u001b[0;36m<module>\u001b[1;34m\u001b[0m\n\u001b[0;32m      1\u001b[0m \u001b[1;31m# Model Visualization\u001b[0m\u001b[1;33m\u001b[0m\u001b[1;33m\u001b[0m\u001b[1;33m\u001b[0m\u001b[0m\n\u001b[0;32m      2\u001b[0m \u001b[1;33m\u001b[0m\u001b[0m\n\u001b[1;32m----> 3\u001b[1;33m \u001b[1;32mfrom\u001b[0m \u001b[0mgraphviz\u001b[0m \u001b[1;32mimport\u001b[0m \u001b[0mDigraph\u001b[0m\u001b[1;33m\u001b[0m\u001b[1;33m\u001b[0m\u001b[0m\n\u001b[0m\u001b[0;32m      4\u001b[0m \u001b[0mf\u001b[0m \u001b[1;33m=\u001b[0m \u001b[0mDigraph\u001b[0m\u001b[1;33m(\u001b[0m\u001b[1;34m'Feed Forward Neural Network'\u001b[0m\u001b[1;33m,\u001b[0m \u001b[0mfilename\u001b[0m\u001b[1;33m=\u001b[0m\u001b[1;34m'model 1.gv'\u001b[0m\u001b[1;33m)\u001b[0m\u001b[1;33m\u001b[0m\u001b[1;33m\u001b[0m\u001b[0m\n\u001b[0;32m      5\u001b[0m \u001b[0mf\u001b[0m\u001b[1;33m.\u001b[0m\u001b[0mattr\u001b[0m\u001b[1;33m(\u001b[0m\u001b[1;34m'node'\u001b[0m\u001b[1;33m,\u001b[0m \u001b[0mshape\u001b[0m\u001b[1;33m=\u001b[0m\u001b[1;34m'circle'\u001b[0m\u001b[1;33m,\u001b[0m \u001b[0mfixedsize\u001b[0m\u001b[1;33m=\u001b[0m\u001b[1;34m'true'\u001b[0m\u001b[1;33m,\u001b[0m \u001b[0mwidth\u001b[0m\u001b[1;33m=\u001b[0m\u001b[1;34m'0.9'\u001b[0m\u001b[1;33m)\u001b[0m\u001b[1;33m\u001b[0m\u001b[1;33m\u001b[0m\u001b[0m\n",
      "\u001b[1;31mModuleNotFoundError\u001b[0m: No module named 'graphviz'"
     ]
    }
   ],
   "source": [
    "# Model Visualization\n",
    "\n",
    "from graphviz import Digraph\n",
    "f = Digraph('Feed Forward Neural Network', filename='model 1.gv')\n",
    "f.attr('node', shape='circle', fixedsize='true', width='0.9')\n",
    "\n",
    "for i in range(len(fnn.layers)) :\n",
    "    if i != 0:\n",
    "        if i == 1:\n",
    "            for j in range(len(fnn.layers[i].weights)) :\n",
    "                for k in range(len(fnn.layers[i].weights[j])) :\n",
    "                    if k == 0:\n",
    "                        if j == 0:\n",
    "                            f.edge(f'bx', f'h{i}_{k}', str(\n",
    "                            fnn.layers[i].weights[j][k]))\n",
    "                        else:\n",
    "                            f.edge(f'bx', f'h{i}_{k+1}', str(\n",
    "                                fnn.layers[i].weights[j][k]))\n",
    "                    else :\n",
    "                        if j == 0:\n",
    "                            if k == 2:\n",
    "                                f.edge(f'x{j}', f'h{i}_{k-1}', str(\n",
    "                                fnn.layers[i].weights[j+1][k]))\n",
    "                            else:\n",
    "                                f.edge(f'x{j}', f'h{i}_{k-1}', str(\n",
    "                                fnn.layers[i].weights[j][k]))\n",
    "                        else:\n",
    "                            if k == 1:\n",
    "                                f.edge(f'x{j}', f'h{i}_{k-1}', str(\n",
    "                                fnn.layers[i].weights[j-1][k]))\n",
    "                            else:\n",
    "                                f.edge(f'x{j}', f'h{i}_{k-1}', str(\n",
    "                                fnn.layers[i].weights[j][k]))\n",
    "\n",
    "        elif i ==2 :\n",
    "            for j in range(len(fnn.layers[i].weights)):\n",
    "                for k in range(len(fnn.layers[i].weights[j])):\n",
    "                    if k == 0:\n",
    "                        f.edge(f'bhx{i-1}', f'h{i}_{j}', str(\n",
    "                            fnn.layers[i].weights[j][k]))\n",
    "                    elif k == 1 :\n",
    "                        f.edge(f'h{i-1}_{j}', f'h{i}_{0}', str(\n",
    "                            fnn.layers[i].weights[j][k]))\n",
    "                    else:\n",
    "                        f.edge(f'h{i-1}_{j+1}', f'h{i}_{0}', str(\n",
    "                            fnn.layers[i].weights[j][k]))\n",
    "       \n",
    "f.view()"
   ]
  }
 ],
 "metadata": {
  "interpreter": {
   "hash": "2be5faf79681da6f2a61fdfdd5405d65d042280f7fba6178067603e3a2925119"
  },
  "kernelspec": {
   "display_name": "Python 3.10.0 64-bit",
   "language": "python",
   "name": "python3"
  },
  "language_info": {
   "codemirror_mode": {
    "name": "ipython",
    "version": 3
   },
   "file_extension": ".py",
   "mimetype": "text/x-python",
   "name": "python",
   "nbconvert_exporter": "python",
   "pygments_lexer": "ipython3",
   "version": "3.9.0"
  },
  "orig_nbformat": 4
 },
 "nbformat": 4,
 "nbformat_minor": 2
}
