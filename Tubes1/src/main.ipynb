{
 "cells": [
  {
   "cell_type": "code",
   "execution_count": 2,
   "metadata": {},
   "outputs": [],
   "source": [
    "from components.FFNNModel import FFNNModel"
   ]
  },
  {
   "cell_type": "code",
   "execution_count": 10,
   "metadata": {},
   "outputs": [
    {
     "name": "stdout",
     "output_type": "stream",
     "text": [
      "-10\n",
      "30\n",
      "-10\n",
      "[0]\n"
     ]
    }
   ],
   "source": [
    "fnn = FFNNModel.getModelFromFile('model.json')\n",
    "fnn.setInitialInput([0, 0])\n",
    "res = fnn.solve()\n",
    "print(res)"
   ]
  },
  {
   "cell_type": "markdown",
   "metadata": {},
   "source": [
    "# Visualization"
   ]
  },
  {
   "cell_type": "code",
   "execution_count": 33,
   "metadata": {},
   "outputs": [
    {
     "data": {
      "text/plain": [
       "'model 1.gv.pdf'"
      ]
     },
     "execution_count": 33,
     "metadata": {},
     "output_type": "execute_result"
    }
   ],
   "source": [
    "# Model Visualization\n",
    "\n",
    "from graphviz import Digraph\n",
    "f = Digraph('Feed Forward Neural Network', filename='model 1.gv')\n",
    "f.attr('node', shape='circle', fixedsize='true', width='0.9')\n",
    "\n",
    "for i in range(len(fnn.layers)) :\n",
    "    if i != 0:\n",
    "        if i == 1:\n",
    "            for j in range(len(fnn.layers[i].weights)) :\n",
    "                for k in range(len(fnn.layers[i].weights[j])) :\n",
    "                    if k == 0:\n",
    "                        if j == 0:\n",
    "                            f.edge(f'bx', f'h{i}_{k}', str(\n",
    "                            fnn.layers[i].weights[j][k]))\n",
    "                        else:\n",
    "                            f.edge(f'bx', f'h{i}_{k+1}', str(\n",
    "                                fnn.layers[i].weights[j][k]))\n",
    "                    else :\n",
    "                        if j == 0:\n",
    "                            if k == 2:\n",
    "                                f.edge(f'x{j}', f'h{i}_{k-1}', str(\n",
    "                                fnn.layers[i].weights[j+1][k]))\n",
    "                            else:\n",
    "                                f.edge(f'x{j}', f'h{i}_{k-1}', str(\n",
    "                                fnn.layers[i].weights[j][k]))\n",
    "                        else:\n",
    "                            if k == 1:\n",
    "                                f.edge(f'x{j}', f'h{i}_{k-1}', str(\n",
    "                                fnn.layers[i].weights[j-1][k]))\n",
    "                            else:\n",
    "                                f.edge(f'x{j}', f'h{i}_{k-1}', str(\n",
    "                                fnn.layers[i].weights[j][k]))\n",
    "\n",
    "        elif i ==2 :\n",
    "            for j in range(len(fnn.layers[i].weights)):\n",
    "                for k in range(len(fnn.layers[i].weights[j])):\n",
    "                    if k == 0:\n",
    "                        f.edge(f'bhx{i-1}', f'h{i}_{j}', str(\n",
    "                            fnn.layers[i].weights[j][k]))\n",
    "                    elif k == 1 :\n",
    "                        f.edge(f'h{i-1}_{j}', f'h{i}_{0}', str(\n",
    "                            fnn.layers[i].weights[j][k]))\n",
    "                    else:\n",
    "                        f.edge(f'h{i-1}_{j+1}', f'h{i}_{0}', str(\n",
    "                            fnn.layers[i].weights[j][k]))\n",
    "       \n",
    "f.view()"
   ]
  }
 ],
 "metadata": {
  "interpreter": {
   "hash": "2be5faf79681da6f2a61fdfdd5405d65d042280f7fba6178067603e3a2925119"
  },
  "kernelspec": {
   "display_name": "Python 3.10.0 64-bit",
   "language": "python",
   "name": "python3"
  },
  "language_info": {
   "codemirror_mode": {
    "name": "ipython",
    "version": 3
   },
   "file_extension": ".py",
   "mimetype": "text/x-python",
   "name": "python",
   "nbconvert_exporter": "python",
   "pygments_lexer": "ipython3",
   "version": "3.10.0"
  },
  "orig_nbformat": 4
 },
 "nbformat": 4,
 "nbformat_minor": 2
}
