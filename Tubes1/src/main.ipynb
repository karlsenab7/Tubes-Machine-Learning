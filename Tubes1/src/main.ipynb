{
 "cells": [
  {
   "cell_type": "code",
   "execution_count": 7,
   "metadata": {},
   "outputs": [
    {
     "ename": "SyntaxError",
     "evalue": "invalid syntax. Perhaps you forgot a comma? (2096481109.py, line 23)",
     "output_type": "error",
     "traceback": [
      "\u001b[1;36m  Input \u001b[1;32mIn [7]\u001b[1;36m\u001b[0m\n\u001b[1;33m    if (i==0):\"Input layer \\t:\", self.layers[idxLayerInput-1].values                print(\"Input layer \\t:\", self.layers[idxLayerInput].values)\u001b[0m\n\u001b[1;37m                                 ^\u001b[0m\n\u001b[1;31mSyntaxError\u001b[0m\u001b[1;31m:\u001b[0m invalid syntax. Perhaps you forgot a comma?\n"
     ]
    }
   ],
   "source": [
    "TEST_DIR = \"test/\"\n",
    "\n",
    "import csv\n",
    "import pandas as pd\n",
    "from components.Activation import Activation\n",
    "from components.Layer import Layer\n",
    "\n",
    "class FFNNModel:\n",
    "    def __init__(self, layers):\n",
    "        self.layers : list[Layer] = layers\n",
    "        pass\n",
    "\n",
    "    def setInitialInput(self, input: list[int]):\n",
    "        if (len(self.layers) >= 1):\n",
    "            self.layers[0].values = input\n",
    "\n",
    "    def solve(self):\n",
    "        for i in range(len(self.layers)-1):\n",
    "            print(\"LAYER ==> \", i)\n",
    "            idxLayerInput = i\n",
    "            idxLayerTarget = i+1\n",
    "            targetValues = []\n",
    "            if (i==0):\"Input \\t:\", self.layers[idxLayerInput-1].values                print(\"Input layer \\t:\", self.layers[idxLayerInput].values)\n",
    "            else:\n",
    "                print(\"\")\n",
    "            tempSigma = []\n",
    "            for nodeTarget in range(self.layers[idxLayerTarget].numOfNode):\n",
    "                sigma = self.getSigma(idxLayerTarget, self.layers[idxLayerInput].values, nodeTarget)\n",
    "                tempVal = Activation.active(sigma, self.layers[idxLayerTarget].activation)\n",
    "                targetValues.append(tempVal)\n",
    "                targetValues.append(tempVal)\n",
    "                tempSigma.append(sigma)\n",
    "\n",
    "            print(\"Sigma   :\", tempSigma)\n",
    "            self.layers[idxLayerTarget].values = targetValues\n",
    "            # print(targetValues)\n",
    "        return self.layers[len(self.layers)-1].values\n",
    "\n",
    "    \n",
    "    def getSigma(self, idxLayer, input, node):\n",
    "        temp = 0\n",
    "        for idx, w in enumerate(self.layers[idxLayer].weights[node]):\n",
    "            if (idx != 0):\n",
    "                temp += w * input[idx-1]\n",
    "            else:\n",
    "                temp += w\n",
    "        return temp\n",
    "\n",
    "    @staticmethod\n",
    "    def getModelFromFile (path):\n",
    "        MODELS_DIR = \"models/\"\n",
    "        layers: list[Layer] = []\n",
    "        df = pd.read_json(MODELS_DIR + path)\t\n",
    "        for layer in df.model.layers :\n",
    "            layer_ = Layer(layer['activation'], layer['numOfNode'], layer['weights'], layer['values'])\n",
    "            layers.append(layer_)\n",
    "\n",
    "        return FFNNModel(layers)"
   ]
  },
  {
   "cell_type": "code",
   "execution_count": 16,
   "metadata": {},
   "outputs": [
    {
     "name": "stdout",
     "output_type": "stream",
     "text": [
      "LAYER ==>  0\n",
      "Input layer \t: [0, 1]\n",
      "Sigma   : [10, 10]\n",
      "LAYER ==>  1\n",
      "Input layer \t: [1, 1, 1, 1]\n",
      "Sigma   : [10]\n"
     ]
    },
    {
     "ename": "TypeError",
     "evalue": "'list' object is not callable",
     "output_type": "error",
     "traceback": [
      "\u001b[1;31m---------------------------------------------------------------------------\u001b[0m",
      "\u001b[1;31mTypeError\u001b[0m                                 Traceback (most recent call last)",
      "\u001b[1;32mc:\\Users\\user\\Documents\\KULIAH\\Semester 6\\ML\\Tubes\\Tubes-Machine-Learning\\Tubes1\\src\\main.ipynb Cell 2'\u001b[0m in \u001b[0;36m<module>\u001b[1;34m\u001b[0m\n\u001b[0;32m     <a href='vscode-notebook-cell:/c%3A/Users/user/Documents/KULIAH/Semester%206/ML/Tubes/Tubes-Machine-Learning/Tubes1/src/main.ipynb#ch0000002?line=53'>54</a>\u001b[0m     \u001b[39mreturn\u001b[39;00m [source[i::step] \u001b[39mfor\u001b[39;00m i \u001b[39min\u001b[39;00m \u001b[39mrange\u001b[39m(step)]\n\u001b[0;32m     <a href='vscode-notebook-cell:/c%3A/Users/user/Documents/KULIAH/Semester%206/ML/Tubes/Tubes-Machine-Learning/Tubes1/src/main.ipynb#ch0000002?line=56'>57</a>\u001b[0m listInput, listTarget \u001b[39m=\u001b[39m readInputFromFile(TEST_DIR \u001b[39m+\u001b[39m \u001b[39m\"\u001b[39m\u001b[39mtest.csv\u001b[39m\u001b[39m\"\u001b[39m)\n\u001b[1;32m---> <a href='vscode-notebook-cell:/c%3A/Users/user/Documents/KULIAH/Semester%206/ML/Tubes/Tubes-Machine-Learning/Tubes1/src/main.ipynb#ch0000002?line=57'>58</a>\u001b[0m solveModel(listInput, listTarget)\n",
      "\u001b[1;32mc:\\Users\\user\\Documents\\KULIAH\\Semester 6\\ML\\Tubes\\Tubes-Machine-Learning\\Tubes1\\src\\main.ipynb Cell 2'\u001b[0m in \u001b[0;36msolveModel\u001b[1;34m(inp, target)\u001b[0m\n\u001b[0;32m     <a href='vscode-notebook-cell:/c%3A/Users/user/Documents/KULIAH/Semester%206/ML/Tubes/Tubes-Machine-Learning/Tubes1/src/main.ipynb#ch0000002?line=13'>14</a>\u001b[0m \u001b[39mfor\u001b[39;00m idx, test \u001b[39min\u001b[39;00m \u001b[39menumerate\u001b[39m(inp):\n\u001b[0;32m     <a href='vscode-notebook-cell:/c%3A/Users/user/Documents/KULIAH/Semester%206/ML/Tubes/Tubes-Machine-Learning/Tubes1/src/main.ipynb#ch0000002?line=14'>15</a>\u001b[0m     fnn\u001b[39m.\u001b[39msetInitialInput(test)\n\u001b[1;32m---> <a href='vscode-notebook-cell:/c%3A/Users/user/Documents/KULIAH/Semester%206/ML/Tubes/Tubes-Machine-Learning/Tubes1/src/main.ipynb#ch0000002?line=15'>16</a>\u001b[0m     res \u001b[39m=\u001b[39m fnn\u001b[39m.\u001b[39;49msolve()(test, end\u001b[39m=\u001b[39;49m\u001b[39m\"\u001b[39;49m\u001b[39m -> \u001b[39;49m\u001b[39m\"\u001b[39;49m)\n\u001b[0;32m     <a href='vscode-notebook-cell:/c%3A/Users/user/Documents/KULIAH/Semester%206/ML/Tubes/Tubes-Machine-Learning/Tubes1/src/main.ipynb#ch0000002?line=16'>17</a>\u001b[0m     \u001b[39mprint\u001b[39m(res, end\u001b[39m=\u001b[39m\u001b[39m\"\u001b[39m\u001b[39m  \u001b[39m\u001b[39m\"\u001b[39m)\n\u001b[0;32m     <a href='vscode-notebook-cell:/c%3A/Users/user/Documents/KULIAH/Semester%206/ML/Tubes/Tubes-Machine-Learning/Tubes1/src/main.ipynb#ch0000002?line=17'>18</a>\u001b[0m     \u001b[39mif\u001b[39;00m (isCorrect(res, target[idx])):\n",
      "\u001b[1;31mTypeError\u001b[0m: 'list' object is not callable"
     ]
    }
   ],
   "source": [
    "fnn = FFNNModel.getModelFromFile('model.json')\n",
    "\n",
    "    \n",
    "def isCorrect(result, target):\n",
    "    for idx, res in enumerate(result):\n",
    "        if (int(res) != int(target[idx])):\n",
    "            return False\n",
    "\n",
    "    return True\n",
    "\n",
    "def solveModel(inp, target):\n",
    "    result = []\n",
    "    count = 0\n",
    "    for idx, test in enumerate(inp):\n",
    "        fnn.setInitialInput(test)\n",
    "        res = fnn.solve()(test, end=\" -> \")\n",
    "        print(res, end=\"  \")\n",
    "        if (isCorrect(res, target[idx])):\n",
    "            print(\"O\")\n",
    "            count += 1\n",
    "        else:\n",
    "            print(\"X\")\n",
    "        result.append(res)\n",
    "        \n",
    "    print(\"Akurasi: \", float(count)/len(inp))\n",
    "\n",
    "def readInputFromFile(filenamedir):\n",
    "    with open(filenamedir, 'r') as f:\n",
    "        data = [i.split(\",\") for i in f.read().split()]\n",
    "    \n",
    "    listInput = []\n",
    "    listTarget = []\n",
    "    temp =[]\n",
    "    temp2 = []\n",
    "    \n",
    "    for i in range(len(data)):\n",
    "        for j in range(len(data[i])):\n",
    "            if i!=0:\n",
    "                if j == 0 or j == 1:\n",
    "                    temp.append(int(data[i][j]))\n",
    "        listInput = slice_per(temp, len(data)-1)\n",
    "        \n",
    "    for i in range(len(data)):\n",
    "        for j in range(len(data[i])):\n",
    "            if i!=0:\n",
    "                if j == 2:\n",
    "                    temp2.append(int(data[i][j]))\n",
    "        listTarget = slice_per(temp2, len(data)-1)\n",
    "    \n",
    "    return (listInput, listTarget)\n",
    "\n",
    "\n",
    "def slice_per(source, step):\n",
    "    return [source[i::step] for i in range(step)]\n",
    "\n",
    "   \n",
    "listInput, listTarget = readInputFromFile(TEST_DIR + \"test.csv\")\n",
    "solveModel(listInput, listTarget)"
   ]
  },
  {
   "cell_type": "markdown",
   "metadata": {},
   "source": [
    "# Visualization"
   ]
  },
  {
   "cell_type": "code",
   "execution_count": 15,
   "metadata": {},
   "outputs": [
    {
     "data": {
      "text/plain": [
       "'model 2.gv.pdf'"
      ]
     },
     "execution_count": 15,
     "metadata": {},
     "output_type": "execute_result"
    }
   ],
   "source": [
    "# Model Visualization\n",
    "\n",
    "from graphviz import Digraph\n",
    "f = Digraph('Feed Forward Neural Network', filename='model 2.gv')\n",
    "f.attr('node', shape='circle', fixedsize='true', width='0.9')\n",
    "\n",
    "for i in range(len(fnn.layers)) :\n",
    "    if i != 0:\n",
    "        if i == 1:\n",
    "            for j in range(len(fnn.layers[i].weights)) :\n",
    "                for k in range(len(fnn.layers[i].weights[j])) :\n",
    "                    if k == 0:\n",
    "                        if j == 0:\n",
    "                            f.edge(f'bx', f'h{i}_{k}', str(\n",
    "                            fnn.layers[i].weights[j][k]))\n",
    "                        else:\n",
    "                            f.edge(f'bx', f'h{i}_{k+1}', str(\n",
    "                                fnn.layers[i].weights[j][k]))\n",
    "                    else :\n",
    "                        if j == 0:\n",
    "                            if k == 2:\n",
    "                                f.edge(f'x{j}', f'h{i}_{k-1}', str(\n",
    "                                fnn.layers[i].weights[j+1][k]))\n",
    "                            else:\n",
    "                                f.edge(f'x{j}', f'h{i}_{k-1}', str(\n",
    "                                fnn.layers[i].weights[j][k]))\n",
    "                        else:\n",
    "                            if k == 1:\n",
    "                                f.edge(f'x{j}', f'h{i}_{k-1}', str(\n",
    "                                fnn.layers[i].weights[j-1][k]))\n",
    "                            else:\n",
    "                                f.edge(f'x{j}', f'h{i}_{k-1}', str(\n",
    "                                fnn.layers[i].weights[j][k]))\n",
    "\n",
    "        elif i ==2 :\n",
    "            for j in range(len(fnn.layers[i].weights)):\n",
    "                for k in range(len(fnn.layers[i].weights[j])):\n",
    "                    if k == 0:\n",
    "                        f.edge(f'bhx{i-1}', f'h{i}_{j}', str(\n",
    "                            fnn.layers[i].weights[j][k]))\n",
    "                    elif k == 1 :\n",
    "                        f.edge(f'h{i-1}_{j}', f'h{i}_{0}', str(\n",
    "                            fnn.layers[i].weights[j][k]))\n",
    "                    else:\n",
    "                        f.edge(f'h{i-1}_{j+1}', f'h{i}_{0}', str(\n",
    "                            fnn.layers[i].weights[j][k]))\n",
    "       \n",
    "f.view()"
   ]
  }
 ],
 "metadata": {
  "interpreter": {
   "hash": "2be5faf79681da6f2a61fdfdd5405d65d042280f7fba6178067603e3a2925119"
  },
  "kernelspec": {
   "display_name": "Python 3.10.0 64-bit",
   "language": "python",
   "name": "python3"
  },
  "language_info": {
   "codemirror_mode": {
    "name": "ipython",
    "version": 3
   },
   "file_extension": ".py",
   "mimetype": "text/x-python",
   "name": "python",
   "nbconvert_exporter": "python",
   "pygments_lexer": "ipython3",
   "version": "3.10.0"
  },
  "orig_nbformat": 4
 },
 "nbformat": 4,
 "nbformat_minor": 2
}
