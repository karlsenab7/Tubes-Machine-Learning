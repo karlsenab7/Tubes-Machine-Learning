{
 "cells": [
  {
   "cell_type": "markdown",
   "metadata": {},
   "source": [
    "# Tugas Besar 3 - IF3270 Machine Learning"
   ]
  },
  {
   "cell_type": "markdown",
   "metadata": {},
   "source": [
    "## Import "
   ]
  },
  {
   "cell_type": "code",
   "execution_count": 1,
   "metadata": {},
   "outputs": [],
   "source": [
    "import numpy as np\n",
    "import matplotlib.pyplot as plt\n",
    "from sklearn import svm,datasets,model_selection,metrics,neural_network\n",
    "\n",
    "from components.FileHandler import FileHandler\n",
    "from components.ConfusionMatrix import ConfusionMatrix"
   ]
  },
  {
   "cell_type": "markdown",
   "metadata": {},
   "source": [
    "## Load Dataset Iris"
   ]
  },
  {
   "cell_type": "code",
   "execution_count": 2,
   "metadata": {},
   "outputs": [],
   "source": [
    "X, y = datasets.load_iris(return_X_y=True)\n",
    "class_names = datasets.load_iris().target_names\n",
    "X_train, X_test, y_train, y_test = model_selection.train_test_split(X,y,test_size=0.1,train_size=0.9)"
   ]
  },
  {
   "cell_type": "markdown",
   "metadata": {},
   "source": [
    "## Confusion Matrix, Akurasi, Presisi, Recall, F1"
   ]
  },
  {
   "cell_type": "code",
   "execution_count": 3,
   "metadata": {},
   "outputs": [
    {
     "name": "stdout",
     "output_type": "stream",
     "text": [
      "Result\n",
      "=========================================\n",
      "True Positif   : 1\n",
      "False Positif  : 3\n",
      "False Negatif  : 4\n",
      "True Negatif   : 2\n",
      "Accuracy       : 0.3\n",
      "Precision      : 0.2\n",
      "Recall         : 0.2\n",
      "F1             : 0.2222222222222222\n",
      "\n",
      "Result (Sklearn)\n",
      "=========================================\n",
      "True Positif   : 1\n",
      "False Positif  : 3\n",
      "False Negatif  : 4\n",
      "True Negatif   : 2\n",
      "Accuracy       : 0.3\n",
      "Precision      : 0.25\n",
      "Recall         : 0.2\n",
      "F1             : 0.22222222222222224\n",
      "\n"
     ]
    }
   ],
   "source": [
    "yPred = [0,0,1,0,1,0,1,0,0,1]\n",
    "yTrue = [0,1,1,1,0,1,0,0,1,0]\n",
    "ConfusionMatrix.execConfusion(yTrue, yPred)"
   ]
  },
  {
   "cell_type": "markdown",
   "metadata": {},
   "source": [
    "## FFNN (Kinerja dan Confunsion Matrixnya)"
   ]
  },
  {
   "cell_type": "code",
   "execution_count": 9,
   "metadata": {},
   "outputs": [
    {
     "name": "stdout",
     "output_type": "stream",
     "text": [
      "Confusion Matrix: \n",
      " [[5 0 0]\n",
      " [0 6 0]\n",
      " [0 0 4]]\n",
      "X Test: \n",
      " [[5.  3.5 1.6 0.6]\n",
      " [4.9 3.6 1.4 0.1]\n",
      " [6.3 3.3 6.  2.5]\n",
      " [5.1 2.5 3.  1.1]\n",
      " [5.8 4.  1.2 0.2]\n",
      " [5.5 2.5 4.  1.3]\n",
      " [7.  3.2 4.7 1.4]\n",
      " [6.2 2.2 4.5 1.5]\n",
      " [5.4 3.9 1.7 0.4]\n",
      " [6.9 3.1 5.4 2.1]\n",
      " [5.5 3.5 1.3 0.2]\n",
      " [7.3 2.9 6.3 1.8]\n",
      " [6.2 2.9 4.3 1.3]\n",
      " [6.2 3.4 5.4 2.3]\n",
      " [5.8 2.7 4.1 1. ]]\n",
      "Y Test: \n",
      " [0 0 2 1 0 1 1 1 0 2 0 2 1 2 1]\n",
      "\n",
      "Accuracy        : 1.0\n",
      "Macro Precision : 1.0\n",
      "Macro Recall    : 1.0\n",
      "Macro F1-score  : 1.0\n"
     ]
    },
    {
     "data": {
      "image/png": "[encoded data removed]",
      "text/plain": [
       "<Figure size 432x288 with 2 Axes>"
      ]
     },
     "metadata": {
      "needs_background": "light"
     },
     "output_type": "display_data"
    }
   ],
   "source": [
    "classifier = svm.SVC(kernel='linear', C=0.01).fit(X_train, y_train)\n",
    "y_pred = classifier.predict(X_test)\n",
    "np.set_printoptions(precision=2)\n",
    "title = \"Confusion matrix\"\n",
    "\n",
    "disp = metrics.ConfusionMatrixDisplay.from_estimator(\n",
    "       classifier, X_test, y_test,\n",
    "       display_labels = class_names,\n",
    "       cmap = plt.cm.Blues,\n",
    "       normalize = None\n",
    "       )\n",
    "disp.ax_.set_title(title)\n",
    "\n",
    "print(\"Confusion Matrix: \\n\", disp.confusion_matrix)\n",
    "print(\"X Test: \\n\", X_test)\n",
    "print(\"Y Test: \\n\", y_test)\n",
    "print()\n",
    "print(f\"Accuracy        : {metrics.accuracy_score(y_test, y_pred)}\")\n",
    "print(f\"Macro Precision : {metrics.precision_score(y_test, y_pred, average='macro')}\")\n",
    "print(f\"Macro Recall    : {metrics.recall_score(y_test, y_pred, average='macro')}\")\n",
    "print(f\"Macro F1-score  : {metrics.f1_score(y_test, y_pred, average='macro')}\")\n",
    "plt.show()\n",
    "\n"
   ]
  },
  {
   "cell_type": "markdown",
   "metadata": {},
   "source": [
    "## FFNN 10-Fold"
   ]
  },
  {
   "cell_type": "code",
   "execution_count": 5,
   "metadata": {},
   "outputs": [
    {
     "name": "stdout",
     "output_type": "stream",
     "text": [
      "accuracy  1.0\n",
      "precision  1.0\n",
      "recall  1.0\n",
      "f1  1.0\n",
      "Confused Matrix\n",
      "[[5 0 0]\n",
      " [0 6 0]\n",
      " [0 0 4]]\n"
     ]
    }
   ],
   "source": [
    "def kFoldCrossValidation(k) :\n",
    "    kf = model_selection.KFold(n_splits=k)\n",
    "    clf = neural_network.MLPClassifier(hidden_layer_sizes=(13,13,13),max_iter=10000)\n",
    "    for train_index,test_index in kf.split(X):\n",
    "        clf.fit(X[train_index], y[train_index])\n",
    "\n",
    "    print(\"accuracy \",str(metrics.accuracy_score(y_test,clf.predict(X_test))))\n",
    "    print(\"precision \",str(metrics.precision_score(y_test,clf.predict(X_test),average='macro',zero_division=1)))\n",
    "    print(\"recall \",str(metrics.recall_score(y_test,clf.predict(X_test),average='macro',zero_division=1)))\n",
    "    print(\"f1 \",str(metrics.f1_score(y_test,clf.predict(X_test),average='macro',zero_division=1)))\n",
    "    print(\"Confused Matrix\")\n",
    "    print(metrics.confusion_matrix(y_test,clf.predict(X_test)))\n",
    "\n",
    "kFoldCrossValidation(10)\n"
   ]
  },
  {
   "cell_type": "markdown",
   "metadata": {},
   "source": [
    "## FILE SAVE"
   ]
  },
  {
   "cell_type": "code",
   "execution_count": 6,
   "metadata": {},
   "outputs": [],
   "source": [
    "FileHandler.saveModel(classifier)"
   ]
  },
  {
   "cell_type": "markdown",
   "metadata": {},
   "source": [
    "## FILE OPEN/LOAD"
   ]
  },
  {
   "cell_type": "code",
   "execution_count": 7,
   "metadata": {},
   "outputs": [],
   "source": [
    "loaded_model = FileHandler.loadModel()"
   ]
  },
  {
   "cell_type": "markdown",
   "metadata": {},
   "source": [
    "## Model"
   ]
  },
  {
   "cell_type": "code",
   "execution_count": 8,
   "metadata": {},
   "outputs": [
    {
     "name": "stdout",
     "output_type": "stream",
     "text": [
      "accuracy  0.0\n",
      "precision  0.5\n",
      "recall  0.5\n",
      "f1  0.0\n",
      "Confused Matrix\n",
      "[[0 0]\n",
      " [1 0]]\n"
     ]
    }
   ],
   "source": [
    "new_inst_X = [[5.0, 2.0, 4.0, 1.0]]\n",
    "new_inst_Y = [2]\n",
    "def printModel(inst_x, inst_y, loaded_model) :\n",
    "    inst_y_pred = loaded_model.predict(inst_x)\n",
    "    print(\"accuracy \", str(metrics.accuracy_score(inst_y, inst_y_pred)))\n",
    "    print(\"precision \", str(metrics.precision_score(inst_y, inst_y_pred, average='macro', zero_division=1)))\n",
    "    print(\"recall \", str(metrics.recall_score(inst_y, inst_y_pred, average='macro', zero_division=1)))\n",
    "    print(\"f1 \", str(metrics.f1_score(inst_y, inst_y_pred, average='macro', zero_division=1)))\n",
    "    print(\"Confused Matrix\")\n",
    "    print(metrics.confusion_matrix(inst_y, inst_y_pred))\n",
    "\n",
    "printModel(new_inst_X, new_inst_Y, loaded_model)"
   ]
  },
  {
   "cell_type": "markdown",
   "metadata": {},
   "source": [
    "## Analisis\n",
    "- Berdasarkan implementasikan kami, perbandingan F1-score dan accuracy implementasi dengan skearn hampir sama, hal ini menyatakan bahwa implementasi sudah sesuai dengan sklearn.\n",
    "- Kinerja FFNN beserta confunsion matriks hasil implementasi kami memiliki nilai precision yang sama dengan nilai accuracy, maka implementasi telah sesuai dengan nilai yang sebenarnya"
   ]
  },
  {
   "cell_type": "markdown",
   "metadata": {},
   "source": [
    "## Anggota Kelompok\n",
    "- 13519001 - Karlsen Adiyasa Bachtiar\n",
    "- 13519051 - Yudi Alfayat\n",
    "- 13519066 - Almeiza Arvin Muzaki\n",
    "- 13519068 - Roy H Simbolon"
   ]
  }
 ],
 "metadata": {
  "kernelspec": {
   "display_name": "Python 3",
   "language": "python",
   "name": "python3"
  },
  "language_info": {
   "codemirror_mode": {
    "name": "ipython",
    "version": 3
   },
   "file_extension": ".py",
   "mimetype": "text/x-python",
   "name": "python",
   "nbconvert_exporter": "python",
   "pygments_lexer": "ipython3",
   "version": "3.9.0"
  },
  "metadata": {
   "interpreter": {
    "hash": "08876914b93de310088a782f60f6c6abc8e6f6e29f02ef0079734cfa98a8305c"
   }
  }
 },
 "nbformat": 4,
 "nbformat_minor": 2
}
