{
 "cells": [
  {
   "cell_type": "code",
   "execution_count": 1,
   "metadata": {},
   "outputs": [],
   "source": [
    "import pandas as pd\n",
    "import matplotlib.pyplot as plt\n",
    "\n",
    "from sklearn.datasets import load_iris\n",
    "from sklearn.model_selection import train_test_split\n",
    "\n",
    "from components.MiniBatchGradient import MiniBatchGradient"
   ]
  },
  {
   "cell_type": "code",
   "execution_count": 2,
   "metadata": {},
   "outputs": [],
   "source": [
    "iris = load_iris()\n",
    "\n",
    "X_train, X_test, y_train, y_test = train_test_split(\n",
    "    iris.data, \n",
    "    iris.target, \n",
    "    test_size=0.1,\n",
    "    random_state=0\n",
    ")"
   ]
  },
  {
   "cell_type": "code",
   "execution_count": 10,
   "metadata": {},
   "outputs": [
    {
     "name": "stdout",
     "output_type": "stream",
     "text": [
      "Begin training...\n",
      "e0(err=54.419961813326736, acc=0.34)\n",
      "e100(err=44.97675376505191, acc=0.3)\n",
      "e200(err=44.884291823622895, acc=0.47)\n",
      "e300(err=44.54022557278175, acc=0.69)\n",
      "e400(err=41.200664753950896, acc=0.69)\n",
      "e500(err=24.22012102333151, acc=0.69)\n",
      "e600(err=22.028608474551213, acc=0.72)\n",
      "e700(err=20.37333701126126, acc=0.81)\n",
      "e800(err=18.576907280441237, acc=0.89)\n",
      "e900(err=16.438557794245373, acc=0.91)\n",
      "e1000(err=12.596002789556076, acc=0.96)\n",
      "e1100(err=8.245196072654794, acc=0.97)\n",
      "e1200(err=5.799849652481316, acc=0.98)\n",
      "e1300(err=4.727120869802037, acc=0.97)\n",
      "e1400(err=4.180754905999671, acc=0.97)\n",
      "e1500(err=3.9464816712225734, acc=0.96)\n",
      "e1600(err=3.858612437398909, acc=0.96)\n",
      "e1700(err=3.8003891900496294, acc=0.96)\n",
      "e1800(err=3.7430336835751734, acc=0.96)\n",
      "e1900(err=3.6870419505452547, acc=0.96)\n",
      "e1999(err=3.4498347180489253, acc=0.97)\n",
      "\n",
      "Training done!!\n",
      "Accuracy :  1.0\n",
      "[2, 1, 0, 2, 0, 2, 0, 1, 1, 1, 2, 1, 1, 1, 1]\n",
      "\n",
      "Visualisasi Error\n"
     ]
    },
    {
     "data": {
      "image/png": "[encoded data removed]",
      "text/plain": [
       "<Figure size 432x288 with 1 Axes>"
      ]
     },
     "metadata": {
      "needs_background": "light"
     },
     "output_type": "display_data"
    },
    {
     "name": "stdout",
     "output_type": "stream",
     "text": [
      "Visualisasi Akurasi\n"
     ]
    },
    {
     "data": {
      "image/png": "[encoded data removed]",
      "text/plain": [
       "<Figure size 432x288 with 1 Axes>"
      ]
     },
     "metadata": {
      "needs_background": "light"
     },
     "output_type": "display_data"
    }
   ],
   "source": [
    "mbg = MiniBatchGradient([4, 5, 5, 5, 3], 32)\n",
    "trainTarget = []\n",
    "for target in y_train:\n",
    "  if target == 0 :\n",
    "    trainTarget.append([1, 0, 0])\n",
    "  elif target == 1 :\n",
    "    trainTarget.append([0, 1, 0])\n",
    "  elif target == 2 :\n",
    "    trainTarget.append([0, 0, 1])\n",
    "\n",
    "print(\"Begin training...\")\n",
    "result = mbg.trainModel(X_train, trainTarget, 2000, 0.01, 0.01)\n",
    "print(\"\\nTraining done!!\")\n",
    "predictedTarget = mbg.predict(X_test)\n",
    "acc = 0\n",
    "for i in range(len(predictedTarget)):\n",
    "  if predictedTarget[i] == y_test[i]:\n",
    "    acc += 1\n",
    "print(\"Accuracy : \", acc/len(X_test))\n",
    "print(predictedTarget)\n",
    "# print(X_test)\n",
    "\n",
    "print('')\n",
    "print(\"Visualisasi Error\")\n",
    "plt.plot(result[\"err\"])\n",
    "plt.show()\n",
    "print(\"Visualisasi Akurasi\")\n",
    "plt.plot(result[\"acc\"])\n",
    "plt.show()\n"
   ]
  },
  {
   "cell_type": "code",
   "execution_count": 9,
   "metadata": {},
   "outputs": [
    {
     "name": "stdout",
     "output_type": "stream",
     "text": [
      "Sklearn Result\n",
      "****************************************************\n",
      "Num of Data          : 150\n",
      "Batch size           : 32\n",
      "Epochs               : 2000\n",
      "Accuracy             : 0.9466666666666667\n"
     ]
    }
   ],
   "source": [
    "from sklearn.neural_network import MLPClassifier\n",
    "\n",
    "df = pd.DataFrame(iris.data, columns=iris.feature_names)\n",
    "df['target'] = iris.target\n",
    "dataset = df.to_numpy()\n",
    "\n",
    "numOfInputLayer = len(dataset[0]) - 1\n",
    "numOfHiddenLayer = 3\n",
    "outputLayer = len(set([data[-1] for data in dataset]))\n",
    "\n",
    "classifier = MLPClassifier(\n",
    "    hidden_layer_sizes=(numOfHiddenLayer), \n",
    "    max_iter= 2000, \n",
    "    activation='logistic', \n",
    "    solver='sgd', \n",
    "    batch_size= 32, \n",
    "    learning_rate_init= 0.1,\n",
    "    random_state=1\n",
    ")\n",
    "\n",
    "classifier.fit(iris.data, iris.target)\n",
    "sklearnResult = classifier.predict(iris.data)\n",
    "\n",
    "numOfCorrectTarget = 0\n",
    "for i in range(len(sklearnResult)):\n",
    "\tif (sklearnResult[i] == iris.target[i]):\n",
    "\t\tnumOfCorrectTarget += 1\n",
    " \n",
    "print(\"Sklearn Result\\n****************************************************\")\n",
    "print('Num of Data          : ' + str(len(dataset)))\n",
    "print('Batch size           : 32')\n",
    "print('Epochs               : 2000') \n",
    "print('Accuracy             : ' + str(numOfCorrectTarget/len(dataset)))"
   ]
  }
 ],
 "metadata": {
  "interpreter": {
   "hash": "2be5faf79681da6f2a61fdfdd5405d65d042280f7fba6178067603e3a2925119"
  },
  "kernelspec": {
   "display_name": "Python 3.10.0 64-bit",
   "language": "python",
   "name": "python3"
  },
  "language_info": {
   "codemirror_mode": {
    "name": "ipython",
    "version": 3
   },
   "file_extension": ".py",
   "mimetype": "text/x-python",
   "name": "python",
   "nbconvert_exporter": "python",
   "pygments_lexer": "ipython3",
   "version": "3.10.0"
  },
  "orig_nbformat": 4
 },
 "nbformat": 4,
 "nbformat_minor": 2
}
