{
 "cells": [
  {
   "cell_type": "code",
   "execution_count": 1,
   "metadata": {},
   "outputs": [],
   "source": [
    "import pandas as pd\n",
    "import matplotlib.pyplot as plt\n",
    "\n",
    "from sklearn.datasets import load_iris\n",
    "from sklearn.model_selection import train_test_split\n",
    "\n",
    "from components.MiniBatchGradient import MiniBatchGradient"
   ]
  },
  {
   "cell_type": "code",
   "execution_count": 2,
   "metadata": {},
   "outputs": [],
   "source": [
    "iris = load_iris()\n",
    "\n",
    "X_train, X_test, y_train, y_test = train_test_split(\n",
    "    iris.data, \n",
    "    iris.target, \n",
    "    test_size=0.2,\n",
    "    random_state=0\n",
    ")"
   ]
  },
  {
   "cell_type": "code",
   "execution_count": 6,
   "metadata": {},
   "outputs": [
    {
     "name": "stdout",
     "output_type": "stream",
     "text": [
      "Begin training...\n",
      "e1(err=40.2045147434977, acc=0.37)\n",
      "e101(err=39.93736374826302, acc=0.37)\n",
      "e201(err=39.93176846037321, acc=0.37)\n",
      "e301(err=39.92522334202909, acc=0.37)\n",
      "e401(err=39.91615078699006, acc=0.37)\n",
      "e501(err=39.90147839441488, acc=0.37)\n",
      "e601(err=39.873893051581064, acc=0.37)\n",
      "e701(err=39.81176777971768, acc=0.37)\n",
      "e801(err=39.62651279454789, acc=0.37)\n",
      "e901(err=38.649412244616215, acc=0.37)\n",
      "e1001(err=28.4400750877359, acc=0.69)\n",
      "e1101(err=20.92220338211889, acc=0.69)\n",
      "e1201(err=18.174392133780074, acc=0.82)\n",
      "e1301(err=14.141628222402915, acc=0.92)\n",
      "e1401(err=9.689497727541827, acc=0.96)\n",
      "e1501(err=6.687147067819544, acc=0.97)\n",
      "e1601(err=5.093791821505418, acc=0.97)\n",
      "e1701(err=4.238127736031182, acc=0.96)\n",
      "e1801(err=3.751919378802106, acc=0.97)\n",
      "e1901(err=3.454337319516213, acc=0.97)\n",
      "e2000(err=3.2725806218830074, acc=0.97)\n",
      "\n",
      "Training done!!\n",
      "Accuracy :  0.9666666666666667\n",
      "[2, 1, 0, 2, 0, 2, 0, 1, 1, 1, 2, 1, 1, 1, 1, 0, 1, 1, 0, 0, 2, 1, 0, 0, 1, 0, 0, 1, 1, 0]\n"
     ]
    },
    {
     "data": {
      "image/png": "[encoded data removed]",
      "text/plain": [
       "<Figure size 432x288 with 1 Axes>"
      ]
     },
     "metadata": {
      "needs_background": "light"
     },
     "output_type": "display_data"
    },
    {
     "data": {
      "image/png": "[encoded data removed]",
      "text/plain": [
       "<Figure size 432x288 with 1 Axes>"
      ]
     },
     "metadata": {
      "needs_background": "light"
     },
     "output_type": "display_data"
    },
    {
     "data": {
      "text/plain": [
       "0.4885325"
      ]
     },
     "execution_count": 6,
     "metadata": {},
     "output_type": "execute_result"
    }
   ],
   "source": [
    "mbg = MiniBatchGradient([4, 5, 5, 5, 3], 1)\n",
    "trainTarget = []\n",
    "for target in y_train:\n",
    "  if target == 0 :\n",
    "    trainTarget.append([1, 0, 0])\n",
    "  elif target == 1 :\n",
    "    trainTarget.append([0, 1, 0])\n",
    "  elif target == 2 :\n",
    "    trainTarget.append([0, 0, 1])\n",
    "\n",
    "print(\"Begin training...\")\n",
    "result = mbg.train(X_train, trainTarget, 2000, 0.01, 0.01)\n",
    "print(\"\\nTraining done!!\")\n",
    "predicted = mbg.predict(X_test)\n",
    "accuracy = 0\n",
    "for i in range(len(predicted)):\n",
    "  if predicted[i] == y_test[i]:\n",
    "    accuracy += 1\n",
    "print(\"Accuracy : \", accuracy/len(X_test))\n",
    "print(predicted)\n",
    "# print(X_test)\n",
    "\n",
    "plt.plot(result[\"err\"])\n",
    "plt.show()\n",
    "plt.plot(result[\"acc\"])\n",
    "plt.show()\n",
    "mbg.calcTotalError([0.123, 0.456], [1, 0])\n"
   ]
  },
  {
   "cell_type": "code",
   "execution_count": 4,
   "metadata": {},
   "outputs": [
    {
     "name": "stdout",
     "output_type": "stream",
     "text": [
      "Sklearn Result\n",
      "****************************************************\n",
      "Num of Data          : 150\n",
      "Accuracy             : 0.9466666666666667\n"
     ]
    }
   ],
   "source": [
    "from sklearn.neural_network import MLPClassifier\n",
    "\n",
    "df = pd.DataFrame(iris.data, columns=iris.feature_names)\n",
    "df['target'] = iris.target\n",
    "dataset = df.to_numpy()\n",
    "\n",
    "numOfInputLayer = len(dataset[0]) - 1\n",
    "numOfHiddenLayer = 3\n",
    "outputLayer = len(set([data[-1] for data in dataset]))\n",
    "\n",
    "learningRate = 0.1\n",
    "batchSzie = 32\n",
    "numOfEpoch = 1000\n",
    "numOfOutputLayer = outputLayer \n",
    "\n",
    "classifier = MLPClassifier(\n",
    "    hidden_layer_sizes=(numOfHiddenLayer), \n",
    "    max_iter=numOfEpoch, \n",
    "    activation='logistic', \n",
    "    solver='sgd', \n",
    "    batch_size=batchSzie, \n",
    "    learning_rate_init=learningRate,\n",
    "    random_state=1\n",
    ")\n",
    "\n",
    "classifier.fit(iris.data, iris.target)\n",
    "sklearnResult = classifier.predict(iris.data)\n",
    "\n",
    "numOfCorrectTarget = 0\n",
    "for i in range(len(sklearnResult)):\n",
    "\tif (sklearnResult[i] == iris.target[i]):\n",
    "\t\tnumOfCorrectTarget += 1\n",
    " \n",
    "print(\"Sklearn Result\\n****************************************************\")\n",
    "print('Num of Data          : ' + str(len(dataset)))\n",
    "print('Accuracy             : ' + str(numOfCorrectTarget/len(dataset)))"
   ]
  }
 ],
 "metadata": {
  "interpreter": {
   "hash": "2be5faf79681da6f2a61fdfdd5405d65d042280f7fba6178067603e3a2925119"
  },
  "kernelspec": {
   "display_name": "Python 3.10.0 64-bit",
   "language": "python",
   "name": "python3"
  },
  "language_info": {
   "codemirror_mode": {
    "name": "ipython",
    "version": 3
   },
   "file_extension": ".py",
   "mimetype": "text/x-python",
   "name": "python",
   "nbconvert_exporter": "python",
   "pygments_lexer": "ipython3",
   "version": "3.10.0"
  },
  "orig_nbformat": 4
 },
 "nbformat": 4,
 "nbformat_minor": 2
}
