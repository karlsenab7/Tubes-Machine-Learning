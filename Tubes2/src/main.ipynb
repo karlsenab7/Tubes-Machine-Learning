{
 "cells": [
  {
   "cell_type": "code",
   "execution_count": 8,
   "metadata": {},
   "outputs": [],
   "source": [
    "from sklearn.datasets import load_iris\n",
    "from sklearn.model_selection import train_test_split\n",
    "import matplotlib.pyplot as plt\n",
    "\n",
    "from components.MiniBatchGradient import MiniBatchGradient"
   ]
  },
  {
   "cell_type": "code",
   "execution_count": 9,
   "metadata": {},
   "outputs": [],
   "source": [
    "iris = load_iris()\n",
    "\n",
    "X_train, X_test, y_train, y_test = train_test_split(\n",
    "    iris.data, \n",
    "    iris.target, \n",
    "    test_size=0.2,\n",
    "    random_state=0\n",
    ")"
   ]
  },
  {
   "cell_type": "code",
   "execution_count": null,
   "metadata": {},
   "outputs": [],
   "source": [
    "mbg = MiniBatchGradient([4, 5, 5, 5, 3], 1)\n",
    "trainTarget = []\n",
    "for target in y_train:\n",
    "  if target == 0 :\n",
    "    trainTarget.append([1, 0, 0])\n",
    "  elif target == 1 :\n",
    "    trainTarget.append([0, 1, 0])\n",
    "  elif target == 2 :\n",
    "    trainTarget.append([0, 0, 1])\n",
    "\n",
    "result = mbg.train(X_train, trainTarget, 100, 0.01, 0.01)\n",
    "predicted = mbg.predict(X_test)\n",
    "accuracy = 0\n",
    "for i in range(len(predicted)):\n",
    "  if predicted[i] == y_test[i]:\n",
    "    accuracy += 1\n",
    "print(\"Accuracy : \", accuracy/len(X_test))\n",
    "print(predicted)\n",
    "print(X_test)\n",
    "\n",
    "plt.plot(result[\"err\"])\n",
    "plt.show()\n",
    "plt.plot(result[\"acc\"])\n",
    "plt.show()\n",
    "mbg.calcTotalError([0.123, 0.456], [1, 0])\n"
   ]
  },
  {
   "cell_type": "code",
   "execution_count": 11,
   "metadata": {},
   "outputs": [
    {
     "name": "stdout",
     "output_type": "stream",
     "text": [
      "-------RESULT SKLearn-------\n",
      "Dataset Size         : 150\n",
      "Correct Prediction   : 142\n",
      "Accuracy             : 0.9466666666666667\n"
     ]
    }
   ],
   "source": [
    "from sklearn import datasets\n",
    "import pandas as pd\n",
    "\n",
    "#initialize datasets\n",
    "iris = datasets.load_iris()\n",
    "df = pd.DataFrame(iris.data, columns=iris.feature_names)\n",
    "df['target'] = iris.target\n",
    "dataset = df.to_numpy()\n",
    "\n",
    "#initialize neura; network attribute\n",
    "input_layer = len(dataset[0]) - 1\n",
    "hidden_layer = 3\n",
    "output_layer = len(set([data[-1] for data in dataset]))\n",
    "\n",
    "#initialize training attribute\n",
    "learning_rate = 0.1\n",
    "batch_number = 32\n",
    "epoch_number = 1000\n",
    "output_number = output_layer\n",
    "\n",
    "from sklearn.neural_network import MLPClassifier\n",
    "\n",
    "\n",
    "classifier = MLPClassifier(hidden_layer_sizes=(hidden_layer,), \n",
    "                           max_iter=epoch_number, \n",
    "                           activation='logistic', \n",
    "                           solver='sgd', \n",
    "                           batch_size=batch_number, \n",
    "                           learning_rate_init=learning_rate,\n",
    "                           random_state=1)\n",
    "\n",
    "classifier.fit(iris.data, iris.target)\n",
    "prediction_result = classifier.predict(iris.data)\n",
    "\n",
    "correct = 0\n",
    "for i in range(len(prediction_result)):\n",
    "\tif (prediction_result[i] == iris.target[i]):\n",
    "\t\tcorrect += 1\n",
    "\n",
    "print('-------RESULT SKLearn-------')        \n",
    "print('Dataset Size         : ' + str(len(dataset)))\n",
    "print('Correct Prediction   : ' + str(correct))\n",
    "print('Accuracy             : ' + str(correct/len(dataset)))"
   ]
  }
 ],
 "metadata": {
  "interpreter": {
   "hash": "2be5faf79681da6f2a61fdfdd5405d65d042280f7fba6178067603e3a2925119"
  },
  "kernelspec": {
   "display_name": "Python 3.10.0 64-bit",
   "language": "python",
   "name": "python3"
  },
  "language_info": {
   "codemirror_mode": {
    "name": "ipython",
    "version": 3
   },
   "file_extension": ".py",
   "mimetype": "text/x-python",
   "name": "python",
   "nbconvert_exporter": "python",
   "pygments_lexer": "ipython3",
   "version": "3.10.0"
  },
  "orig_nbformat": 4
 },
 "nbformat": 4,
 "nbformat_minor": 2
}
