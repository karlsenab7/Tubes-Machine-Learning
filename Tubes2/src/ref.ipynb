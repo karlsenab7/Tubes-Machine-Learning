{
 "cells": [
  {
   "cell_type": "code",
   "execution_count": 1,
   "metadata": {},
   "outputs": [],
   "source": [
    "from sklearn.datasets import load_iris\n",
    "from sklearn.model_selection import train_test_split\n",
    "iris = load_iris()\n",
    "\n",
    "X_train, X_test, y_train, y_test = train_test_split(\n",
    "    iris.data, \n",
    "    iris.target, \n",
    "    test_size=0.2,\n",
    "    random_state=0\n",
    ")"
   ]
  },
  {
   "cell_type": "code",
   "execution_count": 2,
   "metadata": {},
   "outputs": [],
   "source": [
    "\n",
    "from components.MiniBatchGradient import MiniBatchGradientMLP\n",
    "import matplotlib.pyplot as plt\n",
    "\n",
    "myMLP = MiniBatchGradientMLP([4, 5, 5, 5, 3], 1)\n",
    "trainTarget = []\n",
    "for target in y_train:\n",
    "  if target == 0 :\n",
    "    trainTarget.append([1, 0, 0])\n",
    "  elif target == 1 :\n",
    "    trainTarget.append([0, 1, 0])\n",
    "  elif target == 2 :\n",
    "    trainTarget.append([0, 0, 1])\n",
    "\n",
    "trainHistory = myMLP.train(X_train, trainTarget, 100, 0.01, 0.01)\n",
    "predicted = myMLP.predict(X_test)\n",
    "accuracy = 0\n",
    "for i in range(len(predicted)):\n",
    "  if predicted[i] == y_test[i]:\n",
    "    accuracy += 1\n",
    "print(\"Accuracy : \", accuracy/len(X_test))\n",
    "print(predicted)\n",
    "print(X_test)\n",
    "\n",
    "print(\"Accuracy___ : \", accuracy/len(X_test))\n",
    "\n",
    "\n",
    "plt.plot(trainHistory[\"CumulativeError\"])\n",
    "plt.show()\n",
    "plt.plot(trainHistory[\"Accuracy\"])\n",
    "plt.show()\n",
    "# myMLP.calcError([0.123, 0.456], [1, 0])\n"
   ]
  }
 ],
 "metadata": {
  "interpreter": {
   "hash": "2be5faf79681da6f2a61fdfdd5405d65d042280f7fba6178067603e3a2925119"
  },
  "kernelspec": {
   "display_name": "Python 3.10.0 64-bit",
   "language": "python",
   "name": "python3"
  },
  "language_info": {
   "codemirror_mode": {
    "name": "ipython",
    "version": 3
   },
   "file_extension": ".py",
   "mimetype": "text/x-python",
   "name": "python",
   "nbconvert_exporter": "python",
   "pygments_lexer": "ipython3",
   "version": "3.10.0"
  },
  "orig_nbformat": 4
 },
 "nbformat": 4,
 "nbformat_minor": 2
}
